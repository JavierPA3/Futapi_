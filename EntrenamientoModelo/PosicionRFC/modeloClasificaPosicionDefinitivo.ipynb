{
 "cells": [
  {
   "cell_type": "code",
   "execution_count": 4,
   "metadata": {},
   "outputs": [
    {
     "name": "stdout",
     "output_type": "stream",
     "text": [
      "Classification Report:\n",
      "              precision    recall  f1-score   support\n",
      "\n",
      "           0       1.00      1.00      1.00        29\n",
      "           1       0.97      0.97      0.97       210\n",
      "           2       0.82      0.83      0.82       169\n",
      "           3       0.82      0.81      0.81       130\n",
      "\n",
      "    accuracy                           0.89       538\n",
      "   macro avg       0.90      0.90      0.90       538\n",
      "weighted avg       0.89      0.89      0.89       538\n",
      "\n",
      "\n",
      "Confusion Matrix:\n",
      "    0    1    2    3\n",
      "0  29    0    0    0\n",
      "1   0  203    7    0\n",
      "2   0    6  140   23\n",
      "3   0    1   24  105\n"
     ]
    }
   ],
   "source": [
    "import pandas as pd\n",
    "from sklearn.ensemble import RandomForestClassifier\n",
    "from sklearn.metrics import classification_report, confusion_matrix\n",
    "\n",
    "# Cargar los datos de entrenamiento y pruebas\n",
    "datos_entrenamiento = pd.read_csv(\"conjunto_entrenamiento.csv\")\n",
    "datos_numericos_ent = datos_entrenamiento.select_dtypes(include=['number'])\n",
    "\n",
    "datos_prueba = pd.read_csv(\"conjunto_prueba.csv\")\n",
    "datos_numericos_test = datos_prueba.select_dtypes(include=['number'])\n",
    "\n",
    "x_train = datos_numericos_ent.drop(columns=['Pos'])\n",
    "y_train = datos_numericos_ent['Pos']\n",
    "x_test = datos_numericos_test.drop(columns=['Pos'])\n",
    "y_test = datos_numericos_test['Pos']\n",
    "\n",
    "modelo = RandomForestClassifier()\n",
    "# n_estimators: Número de árboles en el bosque (default=100)\n",
    "# criterion: La función para medir la calidad de una división (default=\"gini\")\n",
    "# max_depth: Profundidad máxima de los árboles de decisión (default=None)\n",
    "# min_samples_split: Número mínimo de muestras requeridas para dividir un nodo interno (default=2)\n",
    "# min_samples_leaf: Número mínimo de muestras requeridas para estar en un nodo hoja (default=1)\n",
    "# max_features: Número de características a considerar cuando se busca la mejor división (default=\"auto\")\n",
    "# bootstrap: Indica si se debe utilizar el método de remuestreo bootstrap (default=True)\n",
    "\n",
    "modelo.fit(x_train, y_train)\n",
    "\n",
    "y_pred = modelo.predict(x_test)\n",
    "\n",
    "# Evaluar el rendimiento del modelo\n",
    "print(\"Classification Report:\")\n",
    "print(classification_report(y_test, y_pred))\n",
    "\n",
    "# Calcular y mostrar la matriz de confusión\n",
    "cm = confusion_matrix(y_test, y_pred)\n",
    "print(\"\\nConfusion Matrix:\")\n",
    "print(pd.DataFrame(cm, columns=modelo.classes_, index=modelo.classes_))\n"
   ]
  },
  {
   "cell_type": "code",
   "execution_count": 21,
   "metadata": {},
   "outputs": [],
   "source": [
    "import pickle\n",
    "\n",
    "# Abre el archivo en modo escritura binaria\n",
    "with open(\"modelo91.pkl\", \"wb\") as file_model:\n",
    "    # Guarda el modelo entrenado\n",
    "    pickle.dump(modelo, file_model)"
   ]
  }
 ],
 "metadata": {
  "kernelspec": {
   "display_name": "Python 3",
   "language": "python",
   "name": "python3"
  },
  "language_info": {
   "codemirror_mode": {
    "name": "ipython",
    "version": 3
   },
   "file_extension": ".py",
   "mimetype": "text/x-python",
   "name": "python",
   "nbconvert_exporter": "python",
   "pygments_lexer": "ipython3",
   "version": "3.12.1"
  }
 },
 "nbformat": 4,
 "nbformat_minor": 2
}
