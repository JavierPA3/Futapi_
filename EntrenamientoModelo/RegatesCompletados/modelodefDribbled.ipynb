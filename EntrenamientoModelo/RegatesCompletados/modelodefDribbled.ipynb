{
 "cells": [
  {
   "cell_type": "code",
   "execution_count": 4,
   "metadata": {},
   "outputs": [
    {
     "name": "stdout",
     "output_type": "stream",
     "text": [
      "Error cuadrático medio (MSE):  0.11964552411156587\n",
      "Puntuación R^2: 85.3553460025679\n"
     ]
    }
   ],
   "source": [
    "\n",
    "import pandas as pd\n",
    "from sklearn.linear_model import LinearRegression\n",
    "from sklearn.metrics import mean_squared_error\n",
    "from sklearn.metrics import r2_score\n",
    "\n",
    "# Cargar el archivo CSV\n",
    "datos_entrenamiento = pd.read_csv(\"conjunto_entrenamiento.csv\")\n",
    "datos_numericos_ent = datos_entrenamiento.select_dtypes(include=['number'])\n",
    "\n",
    "datos_prueba = pd.read_csv(\"conjunto_prueba.csv\")\n",
    "datos_numericos_test = datos_prueba.select_dtypes(include=['number'])\n",
    "\n",
    "x_train = datos_numericos_ent.drop(columns=['ToSuc'])\n",
    "y_train = datos_numericos_ent['ToSuc']\n",
    "x_test = datos_numericos_test.drop(columns=['ToSuc'])\n",
    "y_test = datos_numericos_test['ToSuc']\n",
    "\n",
    "model = LinearRegression()\n",
    "# fit_intercept=True: Calcula la ordenada al origen.\n",
    "# normalize='deprecated': Normaliza las variables explicativas (obsoleto desde sklearn 0.24).\n",
    "# copy_X=True: Realiza una copia de X.\n",
    "# n_jobs=None: Número de CPUs a usar (None significa 1, -1 usa todas las CPUs disponibles).\n",
    "# positive=False: Restringe los coeficientes para que sean positivos.\n",
    "model.fit(x_train, y_train)\n",
    "\n",
    "y_pred = model.predict(x_test)\n",
    "\n",
    "mse = mean_squared_error(y_test, y_pred)\n",
    "print(\"Error cuadrático medio (MSE): \", mse)\n",
    "\n",
    "\n",
    "r2_score_value = r2_score(y_test, y_pred)\n",
    "\n",
    "print(\"Puntuación R^2:\", r2_score_value*100)\n"
   ]
  },
  {
   "cell_type": "code",
   "execution_count": 7,
   "metadata": {},
   "outputs": [],
   "source": [
    "import pickle\n",
    "file_model = open(\"DefDribbledENTR_85_011.pkl\", \"wb\")\n",
    "with file_model as f:\n",
    "    pickle.dump((model), f)\n",
    "\n",
    "file_model.close()"
   ]
  }
 ],
 "metadata": {
  "kernelspec": {
   "display_name": "Python 3",
   "language": "python",
   "name": "python3"
  },
  "language_info": {
   "codemirror_mode": {
    "name": "ipython",
    "version": 3
   },
   "file_extension": ".py",
   "mimetype": "text/x-python",
   "name": "python",
   "nbconvert_exporter": "python",
   "pygments_lexer": "ipython3",
   "version": "3.12.1"
  }
 },
 "nbformat": 4,
 "nbformat_minor": 2
}
