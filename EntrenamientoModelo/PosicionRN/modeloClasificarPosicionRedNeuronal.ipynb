{
 "cells": [
  {
   "cell_type": "code",
   "execution_count": null,
   "metadata": {
    "vscode": {
     "languageId": "plaintext"
    }
   },
   "outputs": [],
   "source": [
    "import pandas as pd\n",
    "import numpy as np\n",
    "from sklearn.preprocessing import StandardScaler\n",
    "from sklearn.neural_network import MLPClassifier\n",
    "from sklearn.metrics import classification_report, confusion_matrix, accuracy_score\n",
    "import pickle\n",
    "\n",
    "# Cargar los datos de entrenamiento y prueba\n",
    "datos_entrenamiento = pd.read_csv(\"conjunto_entrenamiento.csv\")\n",
    "datos_prueba = pd.read_csv(\"conjunto_prueba.csv\")\n",
    "\n",
    "# Dividir los datos de entrenamiento en características (X_train) y etiquetas (y_train)\n",
    "X_train = datos_entrenamiento.drop(columns=['Pos'])\n",
    "y_train = datos_entrenamiento['Pos']\n",
    "\n",
    "# Dividir los datos de prueba en características (X_test) y etiquetas (y_test)\n",
    "X_test = datos_prueba.drop(columns=['Pos'])\n",
    "y_test = datos_prueba['Pos']\n",
    "\n",
    "# Preprocesamiento de datos: normalizar características\n",
    "scaler = StandardScaler()\n",
    "X_train_scaled = scaler.fit_transform(X_train)\n",
    "X_test_scaled = scaler.transform(X_test)\n",
    "\n",
    "# Entrenar el modelo con MLPClassifier y ajustar hiperparámetros\n",
    "mlp = MLPClassifier(hidden_layer_sizes=(100, 50), activation='relu', solver='adam', max_iter=500, random_state=42)\n",
    "mlp.fit(X_train_scaled, y_train)\n",
    "\n",
    "# Hacer predicciones en el conjunto de prueba\n",
    "y_pred = mlp.predict(X_test_scaled)\n",
    "\n",
    "# Evaluar el modelo\n",
    "accuracy = accuracy_score(y_test, y_pred)\n",
    "print(f\"Model Accuracy: {accuracy * 100:.2f}%\")\n",
    "\n",
    "# Generar un informe de clasificación\n",
    "print(\"Classification Report:\")\n",
    "print(classification_report(y_test, y_pred))\n",
    "\n",
    "# Calcular y mostrar la matriz de confusión\n",
    "cm = confusion_matrix(y_test, y_pred)\n",
    "print(\"\\nConfusion Matrix:\")\n",
    "print(pd.DataFrame(cm, columns=np.unique(y_test), index=np.unique(y_test)))\n",
    "\n",
    "# Guardar el modelo en un archivo .pkl\n",
    "with open(\"modelo_mejorado.pkl\", \"wb\") as archivo:\n",
    "    pickle.dump(mlp, archivo)\n"
   ]
  }
 ],
 "metadata": {
  "kernelspec": {
   "display_name": "Python 3",
   "language": "python",
   "name": "python3"
  },
  "language_info": {
   "codemirror_mode": {
    "name": "ipython",
    "version": 3
   },
   "file_extension": ".py",
   "mimetype": "text/x-python",
   "name": "python",
   "nbconvert_exporter": "python",
   "pygments_lexer": "ipython3",
   "version": "3.12.1"
  }
 },
 "nbformat": 4,
 "nbformat_minor": 2
}
